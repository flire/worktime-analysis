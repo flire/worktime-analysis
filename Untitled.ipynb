{
 "cells": [
  {
   "cell_type": "code",
   "execution_count": 9,
   "metadata": {},
   "outputs": [],
   "source": [
    "from datetime import time, timedelta\n",
    "from os import listdir\n",
    "from os.path import join\n",
    "\n",
    "def subtract_time(first: time, second: time):\n",
    "    return timedelta(\n",
    "        days=0,\n",
    "        seconds=first.second - second.second,\n",
    "        minutes=first.minute - second.minute,\n",
    "        hours = first.hour - second.hour\n",
    "    )\n",
    "\n",
    "def read_data(filename):\n",
    "    result = []\n",
    "    last = None\n",
    "    for line in open(filename, \"r\", encoding=\"utf-8-sig\"):\n",
    "        parts = line.strip().split('\\t')\n",
    "        timestamp = time.fromisoformat(parts[0])\n",
    "\n",
    "        if last is not None:\n",
    "            duration = subtract_time(timestamp, last[0])\n",
    "            result.append((timestamp, duration, *last[1:]))\n",
    "\n",
    "        if parts[1] != \"finish\":\n",
    "            last = (timestamp, *parts[1:])\n",
    "        else:\n",
    "            last = (timestamp, \"nothing\")\n",
    "\n",
    "    return result\n",
    "\n",
    "files = [i for i in listdir() if i.endswith(\".csv\")]\n",
    "data = {filename.rstrip(\".csv\"): read_data(filename) for filename in files}"
   ]
  },
  {
   "cell_type": "code",
   "execution_count": 10,
   "metadata": {},
   "outputs": [
    {
     "data": {
      "image/png": "[encoded data removed]",
      "text/plain": [
       "<Figure size 864x360 with 1 Axes>"
      ]
     },
     "metadata": {
      "needs_background": "light"
     },
     "output_type": "display_data"
    }
   ],
   "source": [
    "%matplotlib inline\n",
    "\n",
    "import matplotlib.pyplot as plt\n",
    "import numpy as np\n",
    "\n",
    "fig, ax = plt.subplots(figsize=(12, 5))\n",
    "ax.invert_yaxis()\n",
    "ax.xaxis.set_visible(False)\n",
    "\n",
    "bars = {}\n",
    "\n",
    "for day, daydata in data.items():\n",
    "    widths = np.array([activity[1].total_seconds() for activity in daydata])\n",
    "    labels = np.array([activity[2] for activity in daydata])\n",
    "    starts = widths.cumsum() - widths\n",
    "    for width, activity, start in zip(widths, labels, starts):\n",
    "        if activity not in bars:\n",
    "            bars[activity] = {\"width\": [], \"start\": [], \"label\": []}\n",
    "        bars[activity][\"width\"].append(width)\n",
    "        bars[activity][\"start\"].append(start)\n",
    "        bars[activity][\"label\"].append(day)\n",
    "\n",
    "for cat, catdata in bars.items():\n",
    "    if cat != \"nothing\":\n",
    "        ax.barh(catdata[\"label\"], catdata[\"width\"], left=catdata[\"start\"], height=0.5,\n",
    "            label=cat, align=\"edge\")\n",
    "\n",
    "ax.legend(ncol=len(bars)-1, bbox_to_anchor=(0, 1),\n",
    "          loc='lower left', fontsize='small')\n",
    "\n",
    "plt.show()"
   ]
  },
  {
   "cell_type": "code",
   "execution_count": 11,
   "metadata": {},
   "outputs": [],
   "source": [
    "# TODO: \n",
    "# * piechart of activities, \n",
    "# * histogram of code duration, \n",
    "# * number of discussion by person, \n",
    "# * mean of discussion by person"
   ]
  }
 ],
 "metadata": {
  "kernelspec": {
   "display_name": "Python 3",
   "language": "python",
   "name": "python3"
  },
  "language_info": {
   "codemirror_mode": {
    "name": "ipython",
    "version": 3
   },
   "file_extension": ".py",
   "mimetype": "text/x-python",
   "name": "python",
   "nbconvert_exporter": "python",
   "pygments_lexer": "ipython3",
   "version": "3.7.3"
  }
 },
 "nbformat": 4,
 "nbformat_minor": 2
}
